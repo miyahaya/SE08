{
  "nbformat": 4,
  "nbformat_minor": 0,
  "metadata": {
    "colab": {
      "provenance": []
    },
    "kernelspec": {
      "name": "python3",
      "display_name": "Python 3"
    },
    "language_info": {
      "name": "python"
    }
  },
  "cells": [
    {
      "cell_type": "markdown",
      "source": [
        "# Topic 1 : Basic Syntax for Markdown"
      ],
      "metadata": {
        "id": "ANj4YPLvstaN"
      }
    },
    {
      "cell_type": "markdown",
      "source": [
        "## 1. Putting Headings:\n",
        "select Markdown ption instead of code and execute the\n",
        "cell."
      ],
      "metadata": {
        "id": "sslsagEKs6ls"
      }
    },
    {
      "cell_type": "markdown",
      "source": [
        "# Heading level 1\n",
        "## Heading level 2\n",
        "### Heading level 3\n",
        "#### Heading level 4\n",
        "##### Heading level 5\n",
        "###### Heading level 6"
      ],
      "metadata": {
        "id": "NwhXP-ahtK6p"
      }
    },
    {
      "cell_type": "markdown",
      "source": [
        "## 2. Writing Bold letters"
      ],
      "metadata": {
        "id": "c_ESQyZmw1yN"
      }
    },
    {
      "cell_type": "markdown",
      "source": [
        "_two underscores before and after the text_"
      ],
      "metadata": {
        "id": "k_0gBvJMxJaN"
      }
    },
    {
      "cell_type": "markdown",
      "source": [
        "## 3. Writing italic letters"
      ],
      "metadata": {
        "id": "3yvHfC_UxPCj"
      }
    },
    {
      "cell_type": "markdown",
      "source": [
        "_single underscore before and after the text_"
      ],
      "metadata": {
        "id": "xJy5I1DZxcST"
      }
    },
    {
      "cell_type": "markdown",
      "source": [
        "## 4. Dotted Points"
      ],
      "metadata": {
        "id": "g5cc9DwVxfbb"
      }
    },
    {
      "cell_type": "markdown",
      "source": [
        "- Dash before text\n",
        "- will print the text\n",
        "-  with numbered point"
      ],
      "metadata": {
        "id": "jEsU-sRlxkVL"
      }
    },
    {
      "cell_type": "markdown",
      "source": [
        "## 5. Numbered points"
      ],
      "metadata": {
        "id": "-fNH_OqLzJWG"
      }
    },
    {
      "cell_type": "markdown",
      "source": [
        "\n",
        "\n",
        "1. sample\n",
        "2. text\n",
        "3. test\n"
      ],
      "metadata": {
        "id": "LkZjbQGKzRHe"
      }
    },
    {
      "cell_type": "markdown",
      "source": [
        "## 6. Creating Tables:"
      ],
      "metadata": {
        "id": "H3AnjRXIzbWv"
      }
    },
    {
      "cell_type": "markdown",
      "source": [
        "| Heading 1 | Heading 2 |\n",
        "| ----------- | ----------- |\n",
        "| 1 | xx |\n",
        "| 2 | yy |"
      ],
      "metadata": {
        "id": "sBGAniE8zffP"
      }
    },
    {
      "cell_type": "markdown",
      "source": [
        "## 7. Images:"
      ],
      "metadata": {
        "id": "TRqcDX-3zl4f"
      }
    },
    {
      "cell_type": "markdown",
      "source": [
        "![apple_image.jpg](data:image/jpeg;base64,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)"
      ],
      "metadata": {
        "id": "jdbriv_GzpA_"
      }
    },
    {
      "cell_type": "markdown",
      "source": [
        "## 8. Underscore text"
      ],
      "metadata": {
        "id": "CuEdMjSw0EOH"
      }
    },
    {
      "cell_type": "markdown",
      "source": [
        "<u>Underscore text </u>"
      ],
      "metadata": {
        "id": "yN3HrAhK100L"
      }
    },
    {
      "cell_type": "markdown",
      "source": [
        "## 9. Horizontal line"
      ],
      "metadata": {
        "id": "zXzNpgnf19Vr"
      }
    },
    {
      "cell_type": "markdown",
      "source": [
        "***"
      ],
      "metadata": {
        "id": "nWDpXBro2HuU"
      }
    },
    {
      "cell_type": "markdown",
      "source": [
        "# Topic 2 : Basic Python Programming"
      ],
      "metadata": {
        "id": "5oGgRiT92J2-"
      }
    },
    {
      "cell_type": "markdown",
      "source": [
        "## Step 1: print \"Hello World\""
      ],
      "metadata": {
        "id": "L7zkoxPf2V2t"
      }
    },
    {
      "cell_type": "code",
      "source": [
        "print(\"Hello World\")"
      ],
      "metadata": {
        "colab": {
          "base_uri": "https://localhost:8080/"
        },
        "id": "wKCIJnTn2f20",
        "outputId": "c2709d10-571b-4c9b-c341-439ce5ac56a5"
      },
      "execution_count": 3,
      "outputs": [
        {
          "output_type": "stream",
          "name": "stdout",
          "text": [
            "Hello World\n"
          ]
        }
      ]
    },
    {
      "cell_type": "markdown",
      "source": [
        "## Step 2: Create a Numeric Variable"
      ],
      "metadata": {
        "id": "7NDscz8-2WRD"
      }
    },
    {
      "cell_type": "code",
      "source": [
        "a = 10"
      ],
      "metadata": {
        "id": "qI8_GUiW2mFw"
      },
      "execution_count": 4,
      "outputs": []
    },
    {
      "cell_type": "markdown",
      "source": [
        "## Step 3: Print above created variable"
      ],
      "metadata": {
        "id": "H8irVJaU2WVU"
      }
    },
    {
      "cell_type": "code",
      "source": [
        "print(a)"
      ],
      "metadata": {
        "colab": {
          "base_uri": "https://localhost:8080/"
        },
        "id": "Mo3JVwG32sKM",
        "outputId": "9c232b1c-8e8e-4f30-c4ce-6341e1c91365"
      },
      "execution_count": 5,
      "outputs": [
        {
          "output_type": "stream",
          "name": "stdout",
          "text": [
            "10\n"
          ]
        }
      ]
    },
    {
      "cell_type": "markdown",
      "source": [
        "## Step 4: Print the type of above variable"
      ],
      "metadata": {
        "id": "ZIyUwXB52WZ7"
      }
    },
    {
      "cell_type": "code",
      "source": [
        "print(type(a))"
      ],
      "metadata": {
        "colab": {
          "base_uri": "https://localhost:8080/"
        },
        "id": "b6LM5C612yZ0",
        "outputId": "0cfd470b-5c35-4dd9-e635-52c028ad94d5"
      },
      "execution_count": 6,
      "outputs": [
        {
          "output_type": "stream",
          "name": "stdout",
          "text": [
            "<class 'int'>\n"
          ]
        }
      ]
    },
    {
      "cell_type": "markdown",
      "source": [
        "## Step 5: Create a String Variable & Prin"
      ],
      "metadata": {
        "id": "JbGyHiw92WgV"
      }
    },
    {
      "cell_type": "code",
      "source": [
        "string = \"Hello\""
      ],
      "metadata": {
        "id": "1PcuXXzM25OV"
      },
      "execution_count": 9,
      "outputs": []
    },
    {
      "cell_type": "markdown",
      "source": [
        "### Step 5.1: Access 2nd element in above string"
      ],
      "metadata": {
        "id": "C6IGU3iW3HrW"
      }
    },
    {
      "cell_type": "code",
      "source": [
        "print(string[1])"
      ],
      "metadata": {
        "colab": {
          "base_uri": "https://localhost:8080/"
        },
        "id": "KrP0Rs4_3MxF",
        "outputId": "f8700418-7fe9-47a1-e566-bf3f28f9180d"
      },
      "execution_count": 11,
      "outputs": [
        {
          "output_type": "stream",
          "name": "stdout",
          "text": [
            "e\n"
          ]
        }
      ]
    },
    {
      "cell_type": "markdown",
      "source": [
        "### Step 5.2: Find the length of above string"
      ],
      "metadata": {
        "id": "K_TXmeOJ3QnQ"
      }
    },
    {
      "cell_type": "code",
      "source": [
        "print(len(string))"
      ],
      "metadata": {
        "colab": {
          "base_uri": "https://localhost:8080/"
        },
        "id": "6sdjEOUm3Tnt",
        "outputId": "600c05e2-538c-432f-8aaf-da8a51076e35"
      },
      "execution_count": 12,
      "outputs": [
        {
          "output_type": "stream",
          "name": "stdout",
          "text": [
            "5\n"
          ]
        }
      ]
    },
    {
      "cell_type": "markdown",
      "source": [
        "### Step 5.3: Create another String and compare the strings."
      ],
      "metadata": {
        "id": "UObx85Vf3WiN"
      }
    },
    {
      "cell_type": "code",
      "source": [
        "string2 = \"World\"\n",
        "if string == string2:\n",
        "  print(\"Both Strings are same.\")\n",
        "else:\n",
        "  print(\"Both Strings are not same.\")"
      ],
      "metadata": {
        "colab": {
          "base_uri": "https://localhost:8080/"
        },
        "id": "Uv56R6IM3adu",
        "outputId": "2bc8b260-657d-415f-adb8-b2f4170d7aac"
      },
      "execution_count": 13,
      "outputs": [
        {
          "output_type": "stream",
          "name": "stdout",
          "text": [
            "Both Strings are not same.\n"
          ]
        }
      ]
    },
    {
      "cell_type": "markdown",
      "source": [
        "### Step 5.4: Perform Concatenation operation"
      ],
      "metadata": {
        "id": "HXli3PWX3l0_"
      }
    },
    {
      "cell_type": "code",
      "source": [
        "string3 = string + string2\n",
        "print(string3)"
      ],
      "metadata": {
        "colab": {
          "base_uri": "https://localhost:8080/"
        },
        "id": "zkAZE-hv3qIG",
        "outputId": "dada371a-533a-404a-c007-2ec918965e2a"
      },
      "execution_count": 14,
      "outputs": [
        {
          "output_type": "stream",
          "name": "stdout",
          "text": [
            "HelloWorld\n"
          ]
        }
      ]
    },
    {
      "cell_type": "markdown",
      "source": [
        "## Step 6: Create a list"
      ],
      "metadata": {
        "id": "qgzyPQAb35M_"
      }
    },
    {
      "cell_type": "code",
      "source": [
        "sampleList = [3, 5, 6, 18, 10]"
      ],
      "metadata": {
        "id": "eQy0Xexs38y3"
      },
      "execution_count": 16,
      "outputs": []
    },
    {
      "cell_type": "markdown",
      "source": [
        "### Step 6.1: Find the length of above list."
      ],
      "metadata": {
        "id": "C6Y3IAxp3-0F"
      }
    },
    {
      "cell_type": "code",
      "source": [
        "print(len(sampleList))"
      ],
      "metadata": {
        "colab": {
          "base_uri": "https://localhost:8080/"
        },
        "id": "9SaeQdT44B-B",
        "outputId": "e6383d7a-0359-429a-d153-d07deaf84fc1"
      },
      "execution_count": 17,
      "outputs": [
        {
          "output_type": "stream",
          "name": "stdout",
          "text": [
            "5\n"
          ]
        }
      ]
    },
    {
      "cell_type": "markdown",
      "source": [
        "### Step 6.2: Iterate above list using for loop."
      ],
      "metadata": {
        "id": "nYYaV8Pz4EVG"
      }
    },
    {
      "cell_type": "code",
      "source": [
        "for i in sampleList:\n",
        "  print(i)"
      ],
      "metadata": {
        "colab": {
          "base_uri": "https://localhost:8080/"
        },
        "id": "1E2plMkL4Hxn",
        "outputId": "44fa09e9-40b4-4686-f276-e4ffa3d1974a"
      },
      "execution_count": 18,
      "outputs": [
        {
          "output_type": "stream",
          "name": "stdout",
          "text": [
            "3\n",
            "5\n",
            "6\n",
            "18\n",
            "10\n"
          ]
        }
      ]
    },
    {
      "cell_type": "markdown",
      "source": [
        "### Step 6.3: Add another element in to above list"
      ],
      "metadata": {
        "id": "Mhrb3fLs4Nip"
      }
    },
    {
      "cell_type": "code",
      "source": [
        "sampleList.append(22)"
      ],
      "metadata": {
        "id": "E-zBWIMV4SIY"
      },
      "execution_count": 19,
      "outputs": []
    },
    {
      "cell_type": "markdown",
      "source": [
        "### Step 6.4: Remove one element from above list"
      ],
      "metadata": {
        "id": "tjdD-BJf4U6Q"
      }
    },
    {
      "cell_type": "code",
      "source": [
        "sampleList.remove(3)"
      ],
      "metadata": {
        "id": "VXBM0CK24gsK"
      },
      "execution_count": 20,
      "outputs": []
    },
    {
      "cell_type": "markdown",
      "source": [
        "### Step 6.5: Find the minimum and maximum numbers exists in above list."
      ],
      "metadata": {
        "id": "9I0Pd5bZ4dT3"
      }
    },
    {
      "cell_type": "code",
      "source": [
        "print(min(sampleList))\n",
        "print(max(sampleList))"
      ],
      "metadata": {
        "colab": {
          "base_uri": "https://localhost:8080/"
        },
        "id": "z42dP0FB4564",
        "outputId": "c5f4865e-2d26-4903-824b-3aa96208192f"
      },
      "execution_count": 21,
      "outputs": [
        {
          "output_type": "stream",
          "name": "stdout",
          "text": [
            "5\n",
            "22\n"
          ]
        }
      ]
    },
    {
      "cell_type": "markdown",
      "source": [
        "## Step 7: Getting input as a string from User"
      ],
      "metadata": {
        "id": "cGZv2_eZ4x1G"
      }
    },
    {
      "cell_type": "code",
      "source": [
        "name = input(\"Enter your name:\")"
      ],
      "metadata": {
        "colab": {
          "base_uri": "https://localhost:8080/"
        },
        "id": "C6BXn-N04_nh",
        "outputId": "f3567379-7186-45ff-b02c-152f0f98de28"
      },
      "execution_count": 22,
      "outputs": [
        {
          "name": "stdout",
          "output_type": "stream",
          "text": [
            "Enter your name:Likhitha\n"
          ]
        }
      ]
    },
    {
      "cell_type": "markdown",
      "source": [
        "## Step 8: Displaying output: string"
      ],
      "metadata": {
        "id": "y7n9_zxN5SCR"
      }
    },
    {
      "cell_type": "code",
      "source": [
        "print(\"Hello \" + name + \" ! \")"
      ],
      "metadata": {
        "colab": {
          "base_uri": "https://localhost:8080/"
        },
        "id": "7V0SoOSc5Vk2",
        "outputId": "9cd84392-4990-4b58-8165-7ce525b40488"
      },
      "execution_count": 23,
      "outputs": [
        {
          "output_type": "stream",
          "name": "stdout",
          "text": [
            "Hello Likhitha ! \n"
          ]
        }
      ]
    },
    {
      "cell_type": "markdown",
      "source": [
        "## Step 9: Getting input as a int from User"
      ],
      "metadata": {
        "id": "LsP_oyDc5X5j"
      }
    },
    {
      "cell_type": "code",
      "source": [
        "num = int(input(\"Enter a number: \"))"
      ],
      "metadata": {
        "colab": {
          "base_uri": "https://localhost:8080/"
        },
        "id": "nP5y_Vmn5lxp",
        "outputId": "a0c8a83a-0cec-41db-d1e5-69b0d25eba26"
      },
      "execution_count": 24,
      "outputs": [
        {
          "name": "stdout",
          "output_type": "stream",
          "text": [
            "Enter a number: 360\n"
          ]
        }
      ]
    },
    {
      "cell_type": "markdown",
      "source": [
        "## Step 10: Dispay the input"
      ],
      "metadata": {
        "id": "xzP4Myp35wxy"
      }
    },
    {
      "cell_type": "code",
      "source": [
        "print(num)"
      ],
      "metadata": {
        "colab": {
          "base_uri": "https://localhost:8080/"
        },
        "id": "D19PzjMb54Ge",
        "outputId": "8ec22d7e-2322-4c9d-f06e-7dd45c18ab91"
      },
      "execution_count": 25,
      "outputs": [
        {
          "output_type": "stream",
          "name": "stdout",
          "text": [
            "360\n"
          ]
        }
      ]
    },
    {
      "cell_type": "markdown",
      "source": [
        "## Step 11: Different ways to print int and string"
      ],
      "metadata": {
        "id": "T1vAUF3N57Ay"
      }
    },
    {
      "cell_type": "code",
      "source": [
        "a = 20\n",
        "b = 10\n",
        "sum = a + b\n",
        "# Several ways to print\n",
        "print(\"The total sum of values a and b is: {}\".format(sum))\n",
        "print(\"The total sum of values a and b is: %d\" %sum)\n",
        "print(\"The total sum of values a and b is:\", sum)"
      ],
      "metadata": {
        "colab": {
          "base_uri": "https://localhost:8080/"
        },
        "id": "sWISBttA5_Jy",
        "outputId": "7ccece44-a10d-4df5-b0d2-90af21f9bb76"
      },
      "execution_count": 26,
      "outputs": [
        {
          "output_type": "stream",
          "name": "stdout",
          "text": [
            "The total sum of values a and b is: 30\n",
            "The total sum of values a and b is: 30\n",
            "The total sum of values a and b is: 30\n"
          ]
        }
      ]
    },
    {
      "cell_type": "markdown",
      "source": [
        "## Step 12: Getting multiple inputs from the user:"
      ],
      "metadata": {
        "id": "cNhOB-um6Dzh"
      }
    },
    {
      "cell_type": "code",
      "source": [
        "a, b, c = input(\"Enter any three values: \").split()\n",
        "print(\"First number: \", a)\n",
        "print(\"Second number: \", b)\n",
        "print(\"Third number: \", c)"
      ],
      "metadata": {
        "colab": {
          "base_uri": "https://localhost:8080/"
        },
        "id": "_SJkcHKp6Gxq",
        "outputId": "3e268bc4-0508-4ac9-86c2-8fd441db8b5c"
      },
      "execution_count": 27,
      "outputs": [
        {
          "output_type": "stream",
          "name": "stdout",
          "text": [
            "Enter any three values: 1 2 3\n",
            "First number:  1\n",
            "Second number:  2\n",
            "Third number:  3\n"
          ]
        }
      ]
    },
    {
      "cell_type": "markdown",
      "source": [
        "## Step 13: Define a function using \"def\""
      ],
      "metadata": {
        "id": "ECZ4fCZS6GIC"
      }
    },
    {
      "cell_type": "code",
      "source": [
        "def HelloWorld():\n",
        "  print(\"Hello World\")"
      ],
      "metadata": {
        "id": "6mAr82b56VU7"
      },
      "execution_count": 28,
      "outputs": []
    },
    {
      "cell_type": "markdown",
      "source": [
        "## Step 14: Call the above function"
      ],
      "metadata": {
        "id": "oUAl3NrQ6Zfj"
      }
    },
    {
      "cell_type": "code",
      "source": [
        "HelloWorld()"
      ],
      "metadata": {
        "colab": {
          "base_uri": "https://localhost:8080/"
        },
        "id": "q67OpT0H6eC3",
        "outputId": "0479968d-d830-412f-b3ba-f3b90bb7c230"
      },
      "execution_count": 29,
      "outputs": [
        {
          "output_type": "stream",
          "name": "stdout",
          "text": [
            "Hello World\n"
          ]
        }
      ]
    },
    {
      "cell_type": "markdown",
      "source": [
        "# Topic 3 : Advanced Python Programming"
      ],
      "metadata": {
        "id": "DbeWf7mt6hv3"
      }
    },
    {
      "cell_type": "markdown",
      "source": [
        "## 1. pip install Command:"
      ],
      "metadata": {
        "id": "lIfEc6G-6nFj"
      }
    },
    {
      "cell_type": "code",
      "source": [
        "!pip install pami"
      ],
      "metadata": {
        "colab": {
          "base_uri": "https://localhost:8080/"
        },
        "id": "FK1Safa06xGU",
        "outputId": "9a91647c-4bc7-4edd-ce69-4b999b76dfe5"
      },
      "execution_count": 30,
      "outputs": [
        {
          "output_type": "stream",
          "name": "stdout",
          "text": [
            "Collecting pami\n",
            "  Downloading pami-2023.9.1.1-py3-none-any.whl (872 kB)\n",
            "\u001b[?25l     \u001b[90m━━━━━━━━━━━━━━━━━━━━━━━━━━━━━━━━━━━━━━━━\u001b[0m \u001b[32m0.0/872.4 kB\u001b[0m \u001b[31m?\u001b[0m eta \u001b[36m-:--:--\u001b[0m\r\u001b[2K     \u001b[91m━━━━━━━\u001b[0m\u001b[91m╸\u001b[0m\u001b[90m━━━━━━━━━━━━━━━━━━━━━━━━━━━━━━━\u001b[0m \u001b[32m174.1/872.4 kB\u001b[0m \u001b[31m5.2 MB/s\u001b[0m eta \u001b[36m0:00:01\u001b[0m\r\u001b[2K     \u001b[91m━━━━━━━━━━━━━━━━━━━━━━━━━━━━━━\u001b[0m\u001b[90m╺\u001b[0m\u001b[90m━━━━━━━\u001b[0m \u001b[32m696.3/872.4 kB\u001b[0m \u001b[31m10.0 MB/s\u001b[0m eta \u001b[36m0:00:01\u001b[0m\r\u001b[2K     \u001b[90m━━━━━━━━━━━━━━━━━━━━━━━━━━━━━━━━━━━━━━━\u001b[0m \u001b[32m872.4/872.4 kB\u001b[0m \u001b[31m9.7 MB/s\u001b[0m eta \u001b[36m0:00:00\u001b[0m\n",
            "\u001b[?25hRequirement already satisfied: psutil in /usr/local/lib/python3.10/dist-packages (from pami) (5.9.5)\n",
            "Requirement already satisfied: pandas in /usr/local/lib/python3.10/dist-packages (from pami) (1.5.3)\n",
            "Requirement already satisfied: plotly in /usr/local/lib/python3.10/dist-packages (from pami) (5.15.0)\n",
            "Requirement already satisfied: matplotlib in /usr/local/lib/python3.10/dist-packages (from pami) (3.7.1)\n",
            "Collecting resource (from pami)\n",
            "  Downloading Resource-0.2.1-py2.py3-none-any.whl (25 kB)\n",
            "Collecting validators (from pami)\n",
            "  Downloading validators-0.22.0-py3-none-any.whl (26 kB)\n",
            "Requirement already satisfied: urllib3 in /usr/local/lib/python3.10/dist-packages (from pami) (2.0.6)\n",
            "Requirement already satisfied: Pillow in /usr/local/lib/python3.10/dist-packages (from pami) (9.4.0)\n",
            "Requirement already satisfied: numpy in /usr/local/lib/python3.10/dist-packages (from pami) (1.23.5)\n",
            "Requirement already satisfied: contourpy>=1.0.1 in /usr/local/lib/python3.10/dist-packages (from matplotlib->pami) (1.1.1)\n",
            "Requirement already satisfied: cycler>=0.10 in /usr/local/lib/python3.10/dist-packages (from matplotlib->pami) (0.12.0)\n",
            "Requirement already satisfied: fonttools>=4.22.0 in /usr/local/lib/python3.10/dist-packages (from matplotlib->pami) (4.43.0)\n",
            "Requirement already satisfied: kiwisolver>=1.0.1 in /usr/local/lib/python3.10/dist-packages (from matplotlib->pami) (1.4.5)\n",
            "Requirement already satisfied: packaging>=20.0 in /usr/local/lib/python3.10/dist-packages (from matplotlib->pami) (23.2)\n",
            "Requirement already satisfied: pyparsing>=2.3.1 in /usr/local/lib/python3.10/dist-packages (from matplotlib->pami) (3.1.1)\n",
            "Requirement already satisfied: python-dateutil>=2.7 in /usr/local/lib/python3.10/dist-packages (from matplotlib->pami) (2.8.2)\n",
            "Requirement already satisfied: pytz>=2020.1 in /usr/local/lib/python3.10/dist-packages (from pandas->pami) (2023.3.post1)\n",
            "Requirement already satisfied: tenacity>=6.2.0 in /usr/local/lib/python3.10/dist-packages (from plotly->pami) (8.2.3)\n",
            "Collecting JsonForm>=0.0.2 (from resource->pami)\n",
            "  Downloading JsonForm-0.0.2.tar.gz (2.4 kB)\n",
            "  Preparing metadata (setup.py) ... \u001b[?25l\u001b[?25hdone\n",
            "Collecting JsonSir>=0.0.2 (from resource->pami)\n",
            "  Downloading JsonSir-0.0.2.tar.gz (2.2 kB)\n",
            "  Preparing metadata (setup.py) ... \u001b[?25l\u001b[?25hdone\n",
            "Collecting python-easyconfig>=0.1.0 (from resource->pami)\n",
            "  Downloading Python_EasyConfig-0.1.7-py2.py3-none-any.whl (5.4 kB)\n",
            "Requirement already satisfied: jsonschema in /usr/local/lib/python3.10/dist-packages (from JsonForm>=0.0.2->resource->pami) (4.19.1)\n",
            "Requirement already satisfied: six>=1.5 in /usr/local/lib/python3.10/dist-packages (from python-dateutil>=2.7->matplotlib->pami) (1.16.0)\n",
            "Requirement already satisfied: PyYAML in /usr/local/lib/python3.10/dist-packages (from python-easyconfig>=0.1.0->resource->pami) (6.0.1)\n",
            "Requirement already satisfied: attrs>=22.2.0 in /usr/local/lib/python3.10/dist-packages (from jsonschema->JsonForm>=0.0.2->resource->pami) (23.1.0)\n",
            "Requirement already satisfied: jsonschema-specifications>=2023.03.6 in /usr/local/lib/python3.10/dist-packages (from jsonschema->JsonForm>=0.0.2->resource->pami) (2023.7.1)\n",
            "Requirement already satisfied: referencing>=0.28.4 in /usr/local/lib/python3.10/dist-packages (from jsonschema->JsonForm>=0.0.2->resource->pami) (0.30.2)\n",
            "Requirement already satisfied: rpds-py>=0.7.1 in /usr/local/lib/python3.10/dist-packages (from jsonschema->JsonForm>=0.0.2->resource->pami) (0.10.3)\n",
            "Building wheels for collected packages: JsonForm, JsonSir\n",
            "  Building wheel for JsonForm (setup.py) ... \u001b[?25l\u001b[?25hdone\n",
            "  Created wheel for JsonForm: filename=JsonForm-0.0.2-py3-none-any.whl size=3313 sha256=93a89648da7630497a65e4f2a6da9117cbefd578704673eb8ead50d9899edd43\n",
            "  Stored in directory: /root/.cache/pip/wheels/b6/e5/87/11026246d3bd4ad67c0615682d2d6748bbd9a40ac0490882bd\n",
            "  Building wheel for JsonSir (setup.py) ... \u001b[?25l\u001b[?25hdone\n",
            "  Created wheel for JsonSir: filename=JsonSir-0.0.2-py3-none-any.whl size=4750 sha256=8309975c23af9c5b4b0493ac2e372c7a010ac6d2caa34bfb0b97c19fc0ee979f\n",
            "  Stored in directory: /root/.cache/pip/wheels/1d/4c/d3/4d9757425983b43eb709be1043d82cd03fb863ce5f56f117e6\n",
            "Successfully built JsonForm JsonSir\n",
            "Installing collected packages: JsonSir, validators, python-easyconfig, JsonForm, resource, pami\n",
            "Successfully installed JsonForm-0.0.2 JsonSir-0.0.2 pami-2023.9.1.1 python-easyconfig-0.1.7 resource-0.2.1 validators-0.22.0\n"
          ]
        }
      ]
    },
    {
      "cell_type": "markdown",
      "source": [
        "## 2. Reading and Processing .CSV file:"
      ],
      "metadata": {
        "id": "ep_AKyj567fQ"
      }
    },
    {
      "cell_type": "code",
      "source": [
        "# Reading a .csv file\n",
        "import csv\n",
        "file = open('/station_Info.csv')\n",
        "csvreader = csv.reader(file)\n",
        "# Printing Column names in csv file\n",
        "header = next(csvreader)\n",
        "print(header)"
      ],
      "metadata": {
        "colab": {
          "base_uri": "https://localhost:8080/"
        },
        "id": "MBsOnJNm7Gt9",
        "outputId": "0c937f3e-453b-4e6c-e047-4e5751a1f950"
      },
      "execution_count": 32,
      "outputs": [
        {
          "output_type": "stream",
          "name": "stdout",
          "text": [
            "['rowNumber', 'stationId', 'Location', 'Address']\n"
          ]
        }
      ]
    },
    {
      "cell_type": "markdown",
      "source": [
        "## 3. Reading CSV with pandas:"
      ],
      "metadata": {
        "id": "K7tOojju7tcG"
      }
    },
    {
      "cell_type": "code",
      "source": [
        "# Reading csv file into a dataframe\n",
        "import pandas as pd\n",
        "df = pd.read_csv('/station_Info.csv')\n",
        "# If you get error to open the file using the above code give absolute pa\n",
        "# df = pd.read_csv('Exercise_1/inputFileName.csv')\n",
        "# You can get absolute path by right click -> copy path.\n",
        "# Printing the first rows of dataframe\n",
        "print(df.head())\n",
        "# Printing the column names\n",
        "print(df.columns)\n",
        "# Dropping columns from dataframe\n",
        "print(df.drop('stationId', axis=1))\n",
        "# Printing number of rows and columns in dataframe\n",
        "print(df.shape)"
      ],
      "metadata": {
        "colab": {
          "base_uri": "https://localhost:8080/"
        },
        "id": "CMG2Ott37xAu",
        "outputId": "60229679-a874-47b4-f0f3-7fbc8f8ef1ab"
      },
      "execution_count": 35,
      "outputs": [
        {
          "output_type": "stream",
          "name": "stdout",
          "text": [
            "   rowNumber  stationId                              Location          Address\n",
            "0          1    1101010  Point(141.3532777 43.06225480000001)       札幌市中央区北１西２\n",
            "1          2    1101020         Point(141.3252375 43.0396273)     札幌市中央区南２３西１３\n",
            "2          3    1101520  Point(141.3532777 43.06225480000001)       札幌市中央区北１西２\n",
            "3          4    1101540         Point(141.3445286 43.0409769)  札幌市中央区南１４条西１０丁目\n",
            "4          5    1102010         Point(141.3711567 43.1453261)       札幌市北区篠路４－９\n",
            "Index(['rowNumber', 'stationId', 'Location', 'Address'], dtype='object')\n",
            "      rowNumber                              Location              Address\n",
            "0             1  Point(141.3532777 43.06225480000001)           札幌市中央区北１西２\n",
            "1             2         Point(141.3252375 43.0396273)         札幌市中央区南２３西１３\n",
            "2             3  Point(141.3532777 43.06225480000001)           札幌市中央区北１西２\n",
            "3             4         Point(141.3445286 43.0409769)      札幌市中央区南１４条西１０丁目\n",
            "4             5         Point(141.3711567 43.1453261)           札幌市北区篠路４－９\n",
            "...         ...                                   ...                  ...\n",
            "1742       1743         Point(127.6656429 26.1460274)          糸満市西崎町３－１７９\n",
            "1743       1744         Point(127.8197995 26.3478034)          沖縄市美原１－６－２８\n",
            "1744       1745         Point(128.1779451 26.7456488)  国頭郡国頭村大字宜名真字長根原1000\n",
            "1745       1746         Point(127.9723621 26.3565509)         うるま市与那城桃原２１９\n",
            "1746       1747         Point(127.7578588 26.2219792)        中頭郡西原町字与那城１３５\n",
            "\n",
            "[1747 rows x 3 columns]\n",
            "(1747, 4)\n"
          ]
        }
      ]
    },
    {
      "cell_type": "markdown",
      "source": [
        "## 4. How to add code description?"
      ],
      "metadata": {
        "id": "HznEgc5-8Cht"
      }
    },
    {
      "cell_type": "code",
      "source": [
        "# Add the description about the code using comments.\n",
        "def hello_world():\n",
        "  # A simple comment preceding a simple print statement\n",
        "  print(\"Hello World\")"
      ],
      "metadata": {
        "id": "aUFgZmTw8FJn"
      },
      "execution_count": 36,
      "outputs": []
    }
  ]
}